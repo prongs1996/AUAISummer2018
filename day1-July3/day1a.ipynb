{
  "nbformat": 4,
  "nbformat_minor": 0,
  "metadata": {
    "colab": {
      "name": "day1a.ipynb",
      "version": "0.3.2",
      "provenance": [],
      "include_colab_link": true
    },
    "kernelspec": {
      "name": "python3",
      "display_name": "Python 3"
    }
  },
  "cells": [
    {
      "cell_type": "markdown",
      "metadata": {
        "id": "view-in-github",
        "colab_type": "text"
      },
      "source": [
        "[View in Colaboratory](https://colab.research.google.com/github/prongs1996/AUAISummer2018/blob/master/day1a.ipynb)"
      ]
    },
    {
      "metadata": {
        "id": "7Vbn_kk3SdVd",
        "colab_type": "text"
      },
      "cell_type": "markdown",
      "source": [
        "## Asia University AI Summer Program\n",
        "### Day 1 A Assignment"
      ]
    },
    {
      "metadata": {
        "id": "WGBngnRASdbQ",
        "colab_type": "text"
      },
      "cell_type": "markdown",
      "source": [
        "*Lorem ipsum dolor sit amet, consectetur adipiscing elit, sed do eiusmod tempor incididunt ut labore et dolore magna aliqua.*\n",
        "\n",
        "**Ut enim ad minim veniam, quis nostrud exercitation ullamco laboris nisi ut aliquip ex ea commodo consequat.**\n",
        "\n",
        "\n",
        "_Duis aute irure dolor in reprehenderit in voluptate **velit esse cillum dolore eu fugiat nulla pariatur. Excepteur sint occaecat cupidatat non proident**, sunt in culpa qui officia deserunt mollit anim id est laborum._\n",
        "\n",
        "\n",
        " "
      ]
    },
    {
      "metadata": {
        "id": "Gjc7jG8BSdeY",
        "colab_type": "text"
      },
      "cell_type": "markdown",
      "source": [
        "![alt text](https://www.prepressure.com/images/lorem-ipsum-filler-text.png)"
      ]
    },
    {
      "metadata": {
        "id": "QGVtJawxSdjD",
        "colab_type": "text"
      },
      "cell_type": "markdown",
      "source": [
        "[LOREM IPSUM - Wikipedia](https://en.wikipedia.org/wiki/Lorem_ipsum)"
      ]
    },
    {
      "metadata": {
        "id": "bDS-V7aJUCbb",
        "colab_type": "code",
        "colab": {}
      },
      "cell_type": "code",
      "source": [
        ""
      ],
      "execution_count": 0,
      "outputs": []
    }
  ]
}